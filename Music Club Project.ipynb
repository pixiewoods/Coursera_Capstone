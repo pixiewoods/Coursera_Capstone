{
    "nbformat_minor": 1, 
    "cells": [
        {
            "source": "\n# Music Club Project", 
            "cell_type": "markdown", 
            "metadata": {
                "collapsed": true
            }
        }, 
        {
            "source": "## Description", 
            "cell_type": "markdown", 
            "metadata": {}
        }, 
        {
            "source": "My hypothetical problem revolves around opening a small music entertainment club within some neighborhood in San Francisco. The club would not only offer evening entertainment but would ideally be used to offer some music classes and instruction.  I am looking for a thriving neighborhood in which residents would attend events.", 
            "cell_type": "markdown", 
            "metadata": {}
        }, 
        {
            "source": "## Background", 
            "cell_type": "markdown", 
            "metadata": {}
        }, 
        {
            "source": "Part of what I will use as a new business owner to make my decision has to do with city residents and their basic demographics.  \n\u2022\tAbility to afford entertainment.  A middle-class population has some cash for discretionary spending. \n\u2022\tReasonably priced homes.  A business owner may ideally want to live within the community where his/her business is located. \n\u2022\tPopulation volume.  There must be a good size adult population within the community to patronize the club.\n\u2022\tCrime rate.  Obviously, opening a club in a low crime area would be ideal.\nAnother major decision factor is whether music club venues already exist in these communities.  Establishing a new club where there is less competition makes sense.", 
            "cell_type": "markdown", 
            "metadata": {}
        }, 
        {
            "source": "## Data Description", 
            "cell_type": "markdown", 
            "metadata": {}
        }, 
        {
            "source": "San Francisco Neighborhood geo boundaries (https://data.sfgov.org/Geographic-Locations-and-Boundaries/Analysis-Neighborhoods/p5b7-5n3h)\nSan Francisco Crime Dataset for 2018-Present (https://data.sfgov.org/Public-Safety/Police-Department-Incident-Reports-2018-to-Present/wg3w-h783)\nFoursquare Venue Data", 
            "cell_type": "markdown", 
            "metadata": {}
        }, 
        {
            "source": "## Data Usage", 
            "cell_type": "markdown", 
            "metadata": {}
        }, 
        {
            "source": "I\u2019m not finding available free demographic data, so I\u2019ll go with using just crime reports and Foursquare venue data.  I\u2019ll segment neighborhoods by crime level and presence of existing clubs.  Quite simply, a low crime and low venue neighborhood will be considered ideal for a new venue.", 
            "cell_type": "markdown", 
            "metadata": {}
        }, 
        {
            "source": "# Imports\nimport numpy as np # useful for many scientific computing in Python\nimport pandas as pd # primary data structure library", 
            "cell_type": "code", 
            "execution_count": 2, 
            "outputs": [], 
            "metadata": {}
        }, 
        {
            "source": "# Read Crime Data into DataFrame\nimport types\nimport pandas as pd\nfrom botocore.client import Config\nimport ibm_boto3\n\ndef __iter__(self): return 0\n\n# @hidden_cell\n# The following code accesses a file in your IBM Cloud Object Storage. It includes your credentials.\n# You might want to remove those credentials before you share the notebook.\nclient_c2b3f620f8fc45788c33a5b24ed479e6 = ibm_boto3.client(service_name='s3',\n    ibm_api_key_id='GKUqdmYAFUON0WQs2NjrOS8boz-3hTOF77U_JXcN0Exe',\n    ibm_auth_endpoint=\"https://iam.ng.bluemix.net/oidc/token\",\n    config=Config(signature_version='oauth'),\n    endpoint_url='https://s3-api.us-geo.objectstorage.service.networklayer.com')\n\nbody = client_c2b3f620f8fc45788c33a5b24ed479e6.get_object(Bucket='courseracapstone-donotdelete-pr-ptuuqqgvfzhl22',Key='Police_Department_Incident_Reports__2018_to_Present.csv')['Body']\n# add missing __iter__ method, so pandas accepts body as file-like object\nif not hasattr(body, \"__iter__\"): body.__iter__ = types.MethodType( __iter__, body )\n\ndf_data_1 = pd.read_csv(body)\ndf_data_1.head()\n", 
            "cell_type": "code", 
            "execution_count": 4, 
            "outputs": [
                {
                    "output_type": "execute_result", 
                    "metadata": {}, 
                    "data": {
                        "text/html": "<div>\n<style scoped>\n    .dataframe tbody tr th:only-of-type {\n        vertical-align: middle;\n    }\n\n    .dataframe tbody tr th {\n        vertical-align: top;\n    }\n\n    .dataframe thead th {\n        text-align: right;\n    }\n</style>\n<table border=\"1\" class=\"dataframe\">\n  <thead>\n    <tr style=\"text-align: right;\">\n      <th></th>\n      <th>Incident Datetime</th>\n      <th>Incident Date</th>\n      <th>Incident Time</th>\n      <th>Incident Year</th>\n      <th>Incident Day of Week</th>\n      <th>Report Datetime</th>\n      <th>Row ID</th>\n      <th>Incident ID</th>\n      <th>Incident Number</th>\n      <th>CAD Number</th>\n      <th>...</th>\n      <th>Longitude</th>\n      <th>point</th>\n      <th>SF Find Neighborhoods</th>\n      <th>Current Police Districts</th>\n      <th>Current Supervisor Districts</th>\n      <th>Analysis Neighborhoods</th>\n      <th>HSOC Zones as of 2018-06-05</th>\n      <th>OWED Public Spaces</th>\n      <th>Central Market/Tenderloin Boundary Polygon - Updated</th>\n      <th>Parks Alliance CPSI (27+TL sites)</th>\n    </tr>\n  </thead>\n  <tbody>\n    <tr>\n      <th>0</th>\n      <td>2018/12/02 12:45:00 AM</td>\n      <td>2018/12/02</td>\n      <td>00:45</td>\n      <td>2018</td>\n      <td>Sunday</td>\n      <td>2018/12/02 01:56:00 AM</td>\n      <td>74374327130</td>\n      <td>743743</td>\n      <td>180908554</td>\n      <td>183360210.0</td>\n      <td>...</td>\n      <td>-122.404795</td>\n      <td>(37.78490829943, -122.40479506276)</td>\n      <td>32.0</td>\n      <td>5.0</td>\n      <td>10.0</td>\n      <td>8.0</td>\n      <td>NaN</td>\n      <td>NaN</td>\n      <td>NaN</td>\n      <td>NaN</td>\n    </tr>\n    <tr>\n      <th>1</th>\n      <td>2018/12/01 08:30:00 PM</td>\n      <td>2018/12/01</td>\n      <td>20:30</td>\n      <td>2018</td>\n      <td>Saturday</td>\n      <td>2018/12/01 09:18:00 PM</td>\n      <td>74370071000</td>\n      <td>743700</td>\n      <td>180908112</td>\n      <td>183353564.0</td>\n      <td>...</td>\n      <td>-122.408036</td>\n      <td>(37.786409612811, -122.408036237445)</td>\n      <td>19.0</td>\n      <td>6.0</td>\n      <td>3.0</td>\n      <td>36.0</td>\n      <td>NaN</td>\n      <td>NaN</td>\n      <td>1.0</td>\n      <td>NaN</td>\n    </tr>\n    <tr>\n      <th>2</th>\n      <td>2019/03/18 02:01:00 PM</td>\n      <td>2019/03/18</td>\n      <td>14:01</td>\n      <td>2019</td>\n      <td>Monday</td>\n      <td>2019/03/18 02:21:00 PM</td>\n      <td>78164004134</td>\n      <td>781640</td>\n      <td>190194129</td>\n      <td>190772267.0</td>\n      <td>...</td>\n      <td>-122.406699</td>\n      <td>(37.756833733806, -122.406699002688)</td>\n      <td>53.0</td>\n      <td>3.0</td>\n      <td>2.0</td>\n      <td>20.0</td>\n      <td>3.0</td>\n      <td>NaN</td>\n      <td>NaN</td>\n      <td>NaN</td>\n    </tr>\n    <tr>\n      <th>3</th>\n      <td>2019/03/20 08:00:00 AM</td>\n      <td>2019/03/20</td>\n      <td>08:00</td>\n      <td>2019</td>\n      <td>Wednesday</td>\n      <td>2019/03/20 02:06:00 PM</td>\n      <td>78169706244</td>\n      <td>781697</td>\n      <td>190199583</td>\n      <td>190792201.0</td>\n      <td>...</td>\n      <td>-122.404865</td>\n      <td>(37.78400661242, -122.404864795177)</td>\n      <td>32.0</td>\n      <td>1.0</td>\n      <td>10.0</td>\n      <td>34.0</td>\n      <td>NaN</td>\n      <td>NaN</td>\n      <td>NaN</td>\n      <td>NaN</td>\n    </tr>\n    <tr>\n      <th>4</th>\n      <td>2019/03/12 01:30:00 PM</td>\n      <td>2019/03/12</td>\n      <td>13:30</td>\n      <td>2019</td>\n      <td>Tuesday</td>\n      <td>2019/03/15 06:02:00 PM</td>\n      <td>78154706372</td>\n      <td>781547</td>\n      <td>196055103</td>\n      <td>NaN</td>\n      <td>...</td>\n      <td>NaN</td>\n      <td>NaN</td>\n      <td>NaN</td>\n      <td>NaN</td>\n      <td>NaN</td>\n      <td>NaN</td>\n      <td>NaN</td>\n      <td>NaN</td>\n      <td>NaN</td>\n      <td>NaN</td>\n    </tr>\n  </tbody>\n</table>\n<p>5 rows \u00d7 34 columns</p>\n</div>", 
                        "text/plain": "        Incident Datetime Incident Date Incident Time  Incident Year  \\\n0  2018/12/02 12:45:00 AM    2018/12/02         00:45           2018   \n1  2018/12/01 08:30:00 PM    2018/12/01         20:30           2018   \n2  2019/03/18 02:01:00 PM    2019/03/18         14:01           2019   \n3  2019/03/20 08:00:00 AM    2019/03/20         08:00           2019   \n4  2019/03/12 01:30:00 PM    2019/03/12         13:30           2019   \n\n  Incident Day of Week         Report Datetime       Row ID  Incident ID  \\\n0               Sunday  2018/12/02 01:56:00 AM  74374327130       743743   \n1             Saturday  2018/12/01 09:18:00 PM  74370071000       743700   \n2               Monday  2019/03/18 02:21:00 PM  78164004134       781640   \n3            Wednesday  2019/03/20 02:06:00 PM  78169706244       781697   \n4              Tuesday  2019/03/15 06:02:00 PM  78154706372       781547   \n\n   Incident Number   CAD Number  ...   Longitude  \\\n0        180908554  183360210.0  ... -122.404795   \n1        180908112  183353564.0  ... -122.408036   \n2        190194129  190772267.0  ... -122.406699   \n3        190199583  190792201.0  ... -122.404865   \n4        196055103          NaN  ...         NaN   \n\n                                  point SF Find Neighborhoods  \\\n0    (37.78490829943, -122.40479506276)                  32.0   \n1  (37.786409612811, -122.408036237445)                  19.0   \n2  (37.756833733806, -122.406699002688)                  53.0   \n3   (37.78400661242, -122.404864795177)                  32.0   \n4                                   NaN                   NaN   \n\n   Current Police Districts Current Supervisor Districts  \\\n0                       5.0                         10.0   \n1                       6.0                          3.0   \n2                       3.0                          2.0   \n3                       1.0                         10.0   \n4                       NaN                          NaN   \n\n  Analysis Neighborhoods HSOC Zones as of 2018-06-05 OWED Public Spaces  \\\n0                    8.0                         NaN                NaN   \n1                   36.0                         NaN                NaN   \n2                   20.0                         3.0                NaN   \n3                   34.0                         NaN                NaN   \n4                    NaN                         NaN                NaN   \n\n  Central Market/Tenderloin Boundary Polygon - Updated  \\\n0                                                NaN     \n1                                                1.0     \n2                                                NaN     \n3                                                NaN     \n4                                                NaN     \n\n   Parks Alliance CPSI (27+TL sites)  \n0                                NaN  \n1                                NaN  \n2                                NaN  \n3                                NaN  \n4                                NaN  \n\n[5 rows x 34 columns]"
                    }, 
                    "execution_count": 4
                }
            ], 
            "metadata": {}
        }, 
        {
            "source": "", 
            "cell_type": "code", 
            "execution_count": null, 
            "outputs": [], 
            "metadata": {}
        }
    ], 
    "nbformat": 4, 
    "metadata": {
        "kernelspec": {
            "display_name": "Python 3.6", 
            "name": "python3", 
            "language": "python"
        }, 
        "language_info": {
            "mimetype": "text/x-python", 
            "nbconvert_exporter": "python", 
            "version": "3.6.8", 
            "name": "python", 
            "pygments_lexer": "ipython3", 
            "file_extension": ".py", 
            "codemirror_mode": {
                "version": 3, 
                "name": "ipython"
            }
        }
    }
}